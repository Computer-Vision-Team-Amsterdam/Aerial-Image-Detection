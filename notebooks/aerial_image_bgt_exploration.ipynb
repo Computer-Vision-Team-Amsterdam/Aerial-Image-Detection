{
 "cells": [
  {
   "cell_type": "markdown",
   "id": "0",
   "metadata": {},
   "source": [
    "## Prepare image"
   ]
  },
  {
   "cell_type": "code",
   "execution_count": null,
   "id": "1",
   "metadata": {},
   "outputs": [],
   "source": [
    "import os\n",
    "\n",
    "import cv2\n",
    "import geopandas as gpd\n",
    "import IPython\n",
    "import matplotlib.pyplot as plt\n",
    "import numpy as np\n",
    "import shapely.geometry as sg\n",
    "\n",
    "from aerial_image_detection.plot_utils import plot_obb_boxes_on_image\n",
    "from aerial_image_detection.raster_utils import RasterData\n",
    "from aerial_image_detection.sahi_inference import SAHIInferenceModel\n",
    "\n",
    "def show_bgr(img):\n",
    "    _, ret = cv2.imencode('.jpg', img) \n",
    "    i = IPython.display.Image(data=ret)\n",
    "    IPython.display.display(i)\n",
    "\n",
    "RD_crs = \"EPSG:28992\"\n",
    "\n",
    "classes_to_keep = [9, 10]  # [\"large vehicle\", \"small vehicle\"]"
   ]
  },
  {
   "cell_type": "code",
   "execution_count": null,
   "id": "2",
   "metadata": {},
   "outputs": [],
   "source": [
    "full_image_path = f\"../datasets/experiments/parkeren/luchtfotos/beeldmateriaal.nl/2025_115000_487000_RGB_JPEG_hrl.tif\"\n",
    "\n",
    "raster_data = RasterData(full_image_path)\n",
    "\n",
    "print(raster_data.description())"
   ]
  },
  {
   "cell_type": "code",
   "execution_count": null,
   "id": "3",
   "metadata": {},
   "outputs": [],
   "source": [
    "raster_data.show()"
   ]
  },
  {
   "cell_type": "markdown",
   "id": "4",
   "metadata": {},
   "source": [
    "## SAHI"
   ]
  },
  {
   "cell_type": "code",
   "execution_count": null,
   "id": "5",
   "metadata": {},
   "outputs": [],
   "source": [
    "sahi_model = SAHIInferenceModel(\n",
    "    yolo_model_weights_path=\"../datasets/experiments/parkeren/model_weights/yolo11m-obb.pt\",\n",
    "    confidenc_treshold=0.2,\n",
    "    image_size=1024,\n",
    "    slice_height=4096,\n",
    "    slice_width=4096,\n",
    "    classes_to_keep=classes_to_keep,\n",
    "    class_agnostic=True\n",
    ")"
   ]
  },
  {
   "cell_type": "code",
   "execution_count": null,
   "id": "6",
   "metadata": {},
   "outputs": [],
   "source": [
    "rgb_image = raster_data.as_rgb_img()"
   ]
  },
  {
   "cell_type": "code",
   "execution_count": null,
   "id": "7",
   "metadata": {},
   "outputs": [],
   "source": [
    "sahi_result = sahi_model.predict(\n",
    "    image=rgb_image,\n",
    ")"
   ]
  },
  {
   "cell_type": "code",
   "execution_count": null,
   "id": "8",
   "metadata": {},
   "outputs": [],
   "source": [
    "sahi_predictions = sahi_model.get_prediction_data(sahi_result)\n",
    "\n",
    "obb_class = sahi_predictions[\"object_class\"]\n",
    "obb_boxes = sahi_predictions[\"bounding_box\"]"
   ]
  },
  {
   "cell_type": "markdown",
   "id": "9",
   "metadata": {},
   "source": [
    "## Visualize bounding boxes"
   ]
  },
  {
   "cell_type": "code",
   "execution_count": null,
   "id": "10",
   "metadata": {},
   "outputs": [],
   "source": [
    "image_with_obb = plot_obb_boxes_on_image(\n",
    "    raster_data.as_bgr_img(),\n",
    "    obb_class,\n",
    "    obb_boxes,\n",
    "    single_color=(0, 180, 255),\n",
    ")\n",
    "\n",
    "show_bgr(image_with_obb)"
   ]
  },
  {
   "cell_type": "code",
   "execution_count": null,
   "id": "11",
   "metadata": {},
   "outputs": [],
   "source": [
    "source_name = os.path.splitext(os.path.basename(full_image_path))[0]\n",
    "filename = f\"../datasets/experiments/parkeren/sahi_predictions_{source_name}.jpg\"\n",
    "\n",
    "_ = cv2.imwrite(filename=filename, img=image_with_obb)"
   ]
  },
  {
   "cell_type": "markdown",
   "id": "12",
   "metadata": {},
   "source": [
    "## Convert bounding boxes to GPD"
   ]
  },
  {
   "cell_type": "code",
   "execution_count": null,
   "id": "13",
   "metadata": {},
   "outputs": [],
   "source": [
    "obb_geoms = (\n",
    "    gpd.GeoSeries(\n",
    "        data=[sg.Polygon(coords) for coords in obb_boxes]\n",
    "    )\n",
    "    .affine_transform(raster_data.get_shapely_transform())\n",
    ")\n",
    "\n",
    "detections_gdf = gpd.GeoDataFrame(\n",
    "    data={\n",
    "        \"class_id\": obb_class,\n",
    "        \"geometry\": obb_geoms\n",
    "    },\n",
    "    crs=RD_crs,\n",
    ")\n",
    "\n",
    "detections_gdf.insert(0, column=\"source_file\", value=os.path.basename(full_image_path))"
   ]
  },
  {
   "cell_type": "code",
   "execution_count": null,
   "id": "14",
   "metadata": {},
   "outputs": [],
   "source": [
    "_ = detections_gdf.plot()"
   ]
  },
  {
   "cell_type": "markdown",
   "id": "15",
   "metadata": {},
   "source": [
    "## BGT"
   ]
  },
  {
   "cell_type": "code",
   "execution_count": null,
   "id": "16",
   "metadata": {},
   "outputs": [],
   "source": [
    "bounds_poly = raster_data.get_bounds_as_polygon()\n",
    "\n",
    "bgt_wegdeel = gpd.read_file(\"../datasets/experiments/parkeren/bgt/115000_487000/bgt_wegdeel.gml\")\n",
    "bgt_wegdeel = bgt_wegdeel[bgt_wegdeel[\"eindRegistratie\"].isna()]"
   ]
  },
  {
   "cell_type": "code",
   "execution_count": null,
   "id": "17",
   "metadata": {},
   "outputs": [],
   "source": [
    "bgt_voetpad = bgt_wegdeel[bgt_wegdeel.function.isin(['voetpad', 'fietspad', 'voetpad op trap', 'voetgangersgebied'])]\n",
    "bgt_voetpad_area = bgt_voetpad.intersection(bounds_poly)\n",
    "bgt_voetpad_area = bgt_voetpad_area[~bgt_voetpad_area.is_empty]"
   ]
  },
  {
   "cell_type": "code",
   "execution_count": null,
   "id": "18",
   "metadata": {},
   "outputs": [],
   "source": [
    "bgt_parkeervlak = bgt_wegdeel[bgt_wegdeel.function.isin(['parkeervlak'])]\n",
    "bgt_parkeervlak_area = bgt_parkeervlak.intersection(bounds_poly)\n",
    "bgt_parkeervlak_area = bgt_parkeervlak_area[~bgt_parkeervlak_area.is_empty]"
   ]
  },
  {
   "cell_type": "markdown",
   "id": "19",
   "metadata": {},
   "source": [
    "## Compute wrongly parked cars"
   ]
  },
  {
   "cell_type": "code",
   "execution_count": null,
   "id": "20",
   "metadata": {},
   "outputs": [],
   "source": [
    "detections_gdf[\"percentage_on_sidewalk\"] = (\n",
    "    detections_gdf.intersection(bgt_voetpad_area.union_all(method=\"unary\")).area \n",
    "    / detections_gdf.area\n",
    ")\n",
    "detections_gdf[\"wrongly_parked\"] = detections_gdf[\"percentage_on_sidewalk\"] >= 0.25"
   ]
  },
  {
   "cell_type": "code",
   "execution_count": null,
   "id": "21",
   "metadata": {},
   "outputs": [],
   "source": [
    "print(f\"Number of cars: {len(detections_gdf)}\")\n",
    "print(f\"Wrongly parked: {detections_gdf['wrongly_parked'].sum()} ({(detections_gdf['wrongly_parked'].sum() / len(detections_gdf)) * 100:.1f}%)\")"
   ]
  },
  {
   "cell_type": "markdown",
   "id": "22",
   "metadata": {},
   "source": [
    "## Visualise all together"
   ]
  },
  {
   "cell_type": "code",
   "execution_count": null,
   "id": "23",
   "metadata": {},
   "outputs": [],
   "source": [
    "%matplotlib inline\n",
    "\n",
    "padding = 10\n",
    "\n",
    "fig, ax = plt.subplots(1, figsize=(10, 10), constrained_layout=True)\n",
    "\n",
    "[x_min, y_min, x_max, y_max] = map(int, bounds_poly.bounds)\n",
    "\n",
    "ax.imshow(rgb_image, extent=[x_min, x_max, y_min, y_max])\n",
    "\n",
    "bgt_voetpad_area.plot(ax=ax, color=\"red\", alpha=0.25)\n",
    "bgt_parkeervlak_area.plot(ax=ax, color=\"green\", alpha=0.25)\n",
    "detections_gdf[~detections_gdf[\"wrongly_parked\"]].boundary.plot(ax=ax, color=np.array([255, 180, 0]) / 255)\n",
    "detections_gdf[detections_gdf[\"wrongly_parked\"]].boundary.plot(ax=ax, color=np.array([255, 0, 189]) / 255)\n",
    "\n",
    "ax.set_xlabel('X')\n",
    "ax.set_ylabel('Y')\n",
    "\n",
    "ax.set_xticks(range(x_min, x_max+1, 100))\n",
    "ax.set_xticklabels(range(x_min, x_max+1, 100))\n",
    "ax.set_yticks(range(y_min, y_max+1, 100))\n",
    "ax.set_yticklabels(range(y_min, y_max+1, 100))\n",
    "\n",
    "ax.set_xlim((x_min - padding, x_max + padding))\n",
    "ax.set_ylim((y_min - padding, y_max + padding))\n",
    "ax.set_aspect('equal', adjustable='box')\n",
    "\n",
    "# extent = ax.get_window_extent().transformed(fig.dpi_scale_trans.inverted())\n",
    "# plt.savefig(\"../datasets/experiments/parkeren/full_combined.jpg\", bbox_inches=extent, dpi=450)\n",
    "\n",
    "plt.show()"
   ]
  },
  {
   "cell_type": "code",
   "execution_count": null,
   "id": "24",
   "metadata": {},
   "outputs": [],
   "source": []
  }
 ],
 "metadata": {
  "kernelspec": {
   "display_name": "Aerial-Image-Detection",
   "language": "python",
   "name": "python3"
  },
  "language_info": {
   "codemirror_mode": {
    "name": "ipython",
    "version": 3
   },
   "file_extension": ".py",
   "mimetype": "text/x-python",
   "name": "python",
   "nbconvert_exporter": "python",
   "pygments_lexer": "ipython3",
   "version": "3.11.11"
  }
 },
 "nbformat": 4,
 "nbformat_minor": 5
}
