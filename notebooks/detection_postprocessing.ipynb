{
 "cells": [
  {
   "cell_type": "code",
   "execution_count": null,
   "id": "0",
   "metadata": {},
   "outputs": [],
   "source": [
    "import os\n",
    "\n",
    "import geopandas as gpd\n",
    "import pandas as pd\n",
    "from shapely.geometry import Point\n",
    "\n",
    "detections_file = \"../datasets/experiments/parkeren/detections/combined_detections_centrum.geojson\"\n",
    "buurten_file = \"../datasets/experiments/parkeren/bgt/Gebieden/GBD_buurt.shp\"\n",
    "\n",
    "bgt_folder = \"../datasets/experiments/parkeren/bgt/Amsterdam_Centrum/\"\n",
    "bgt_voetpad_functions = ['voetpad', 'fietspad', 'voetpad op trap', 'voetgangersgebied']\n",
    "\n",
    "parkeervlakken_file = \"../datasets/experiments/parkeren/bgt//parkeervakken-parkeervakken-2025-09-12T15_32_00.255804+02_00.json\"\n",
    "\n",
    "RD_crs = \"EPSG:28992\"\n",
    "\n",
    "car_dimensions = {\n",
    "    \"min_width\": 1.4,\n",
    "    \"min_length\": 3.0,\n",
    "    \"max_width\": 3.1,\n",
    "    \"max_length\": 12.0\n",
    "}\n",
    "\n",
    "conf_threshold = 0.04"
   ]
  },
  {
   "cell_type": "code",
   "execution_count": null,
   "id": "1",
   "metadata": {},
   "outputs": [],
   "source": [
    "def get_shape(geom):\n",
    "    coords = geom.exterior.coords\n",
    "\n",
    "    # get length of bounding box edges\n",
    "    edge_length = (\n",
    "        Point(coords[0]).distance(Point(coords[1])),\n",
    "        Point(coords[1]).distance(Point(coords[2]))\n",
    "    )\n",
    "\n",
    "    return {\n",
    "        \"length\": max(edge_length),\n",
    "        \"width\": min(edge_length)\n",
    "    }\n",
    "\n",
    "def is_valid_detection(row):\n",
    "    accept_conf = row[\"confidence\"] >= conf_threshold\n",
    "    accept_width = (\n",
    "        (row[\"width\"] >= car_dimensions[\"min_width\"])\n",
    "        and (row[\"width\"] <= car_dimensions[\"max_width\"])\n",
    "    )\n",
    "    accept_length = (\n",
    "        (row[\"length\"] >= car_dimensions[\"min_length\"])\n",
    "        and (row[\"length\"] <= car_dimensions[\"max_length\"])\n",
    "    )\n",
    "    return accept_conf and accept_width and accept_length"
   ]
  },
  {
   "cell_type": "code",
   "execution_count": null,
   "id": "2",
   "metadata": {},
   "outputs": [],
   "source": [
    "# Load buurten shapes\n",
    "buurten_gdf = gpd.read_file(buurten_file)\n",
    "buurten_gdf = buurten_gdf[buurten_gdf[\"sdl_naam\"] == \"Centrum\"]\n",
    "\n",
    "# Load BGT wegdeel\n",
    "_bgt_wgl_gdfs = []\n",
    "_bgt_wgl_files = [file for file in os.listdir(bgt_folder) if file.startswith(\"BGT_WGL\") and file.endswith(\".shp\")]\n",
    "for file in _bgt_wgl_files:\n",
    "    _bgt_wgl_gdfs.append(gpd.read_file(os.path.join(bgt_folder, file)))\n",
    "\n",
    "bgt_wgl_gdf = gpd.GeoDataFrame(pd.concat(_bgt_wgl_gdfs))\n",
    "bgt_wgl_gdf = bgt_wgl_gdf[bgt_wgl_gdf[\"eindreg\"].isna()]\n",
    "\n",
    "# Filter pedestrian zones\n",
    "bgt_voetpad_gdf = bgt_wgl_gdf[bgt_wgl_gdf[\"bgtfunctie\"].isin(bgt_voetpad_functions)]\n",
    "\n",
    "# Load parkeervlakken\n",
    "parkeervlakken_gdf = gpd.read_file(parkeervlakken_file)\n",
    "parkeervlakken_gdf.to_crs(RD_crs, inplace=True)\n",
    "parkeervlakken_gdf = parkeervlakken_gdf[parkeervlakken_gdf.is_valid]\n",
    "parkeervlakken_gdf = parkeervlakken_gdf[parkeervlakken_gdf.intersects(buurten_gdf.union_all())]"
   ]
  },
  {
   "cell_type": "code",
   "execution_count": null,
   "id": "3",
   "metadata": {},
   "outputs": [],
   "source": [
    "def get_buurt_and_wijk(row):\n",
    "    buurt = buurten_gdf[buurten_gdf.contains(row[\"geometry\"].centroid)]\n",
    "\n",
    "    if len(buurt) > 0:\n",
    "        buurt = buurt.iloc[0]\n",
    "        return {\n",
    "            \"buurt_code\": buurt[\"code\"], \n",
    "            \"buurt_naam\": buurt[\"naam\"], \n",
    "            \"wijk_naam\": buurt[\"wijk_naam\"]\n",
    "        }\n",
    "    \n",
    "    else:\n",
    "        return {\n",
    "            \"buurt_code\": None, \n",
    "            \"buurt_naam\": None, \n",
    "            \"wijk_naam\": None\n",
    "        }"
   ]
  },
  {
   "cell_type": "code",
   "execution_count": null,
   "id": "4",
   "metadata": {},
   "outputs": [],
   "source": [
    "# Load detections from file\n",
    "centrum_detections_gdf = gpd.read_file(detections_file).set_index(\"index\")\n",
    "\n",
    "# Enrich detections\n",
    "centrum_detections_gdf[[\"length\", \"width\"]] = centrum_detections_gdf.apply(lambda row: get_shape(row[\"geometry\"]), axis=\"columns\", result_type=\"expand\")\n",
    "centrum_detections_gdf[\"valid_detection\"] = centrum_detections_gdf.apply(is_valid_detection, axis=\"columns\")\n",
    "centrum_detections_gdf[[\"buurt_code\", \"buurt_naam\", \"wijk_naam\"]] = centrum_detections_gdf.apply(get_buurt_and_wijk, axis=\"columns\", result_type=\"expand\")\n",
    "\n",
    "# Filter valid detections\n",
    "valid_detections_gdf = centrum_detections_gdf[centrum_detections_gdf[\"valid_detection\"] & ~centrum_detections_gdf[\"buurt_code\"].isna()].copy()"
   ]
  },
  {
   "cell_type": "markdown",
   "id": "5",
   "metadata": {},
   "source": [
    "## Compute wrongly parked cars"
   ]
  },
  {
   "cell_type": "code",
   "execution_count": null,
   "id": "6",
   "metadata": {},
   "outputs": [],
   "source": [
    "voetpad_shape = bgt_voetpad_gdf.union_all() - parkeervlakken_gdf.union_all()\n",
    "\n",
    "valid_detections_gdf[\"percentage_on_sidewalk\"] = (\n",
    "    valid_detections_gdf.intersection(voetpad_shape).area \n",
    "    / valid_detections_gdf.area\n",
    ")\n",
    "valid_detections_gdf[\"wrongly_parked\"] = valid_detections_gdf[\"percentage_on_sidewalk\"] >= 0.25"
   ]
  },
  {
   "cell_type": "code",
   "execution_count": null,
   "id": "7",
   "metadata": {},
   "outputs": [],
   "source": [
    "print(f\"Number of cars: {len(valid_detections_gdf)}\")\n",
    "print(f\"Wrongly parked: {valid_detections_gdf['wrongly_parked'].sum()} ({(valid_detections_gdf['wrongly_parked'].sum() / len(valid_detections_gdf)) * 100:.1f}%)\")"
   ]
  },
  {
   "cell_type": "code",
   "execution_count": null,
   "id": "8",
   "metadata": {},
   "outputs": [],
   "source": [
    "valid_detections_gdf[\"percentage_on_sidewalk\"].hist(bins=50)"
   ]
  },
  {
   "cell_type": "code",
   "execution_count": null,
   "id": "9",
   "metadata": {},
   "outputs": [],
   "source": [
    "valid_detections_gdf[[\"wijk_naam\", \"wrongly_parked\"]].groupby(\"wijk_naam\").value_counts(normalize=True)"
   ]
  },
  {
   "cell_type": "code",
   "execution_count": null,
   "id": "10",
   "metadata": {},
   "outputs": [],
   "source": []
  }
 ],
 "metadata": {
  "kernelspec": {
   "display_name": "Aerial-Image-Detection",
   "language": "python",
   "name": "python3"
  },
  "language_info": {
   "codemirror_mode": {
    "name": "ipython",
    "version": 3
   },
   "file_extension": ".py",
   "mimetype": "text/x-python",
   "name": "python",
   "nbconvert_exporter": "python",
   "pygments_lexer": "ipython3",
   "version": "3.11.11"
  }
 },
 "nbformat": 4,
 "nbformat_minor": 5
}
