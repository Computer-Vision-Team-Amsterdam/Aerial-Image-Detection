{
 "cells": [
  {
   "cell_type": "code",
   "execution_count": null,
   "id": "0",
   "metadata": {},
   "outputs": [],
   "source": [
    "import os\n",
    "\n",
    "import geopandas as gpd\n",
    "import pandas as pd\n",
    "import shapely.geometry as sg\n",
    "\n",
    "from aerial_image_detection.raster_utils import RasterData\n",
    "from aerial_image_detection.sahi_inference import SAHIInferenceModel\n",
    "\n",
    "RD_crs = \"EPSG:28992\"\n",
    "\n",
    "classes_to_keep = [9, 10]  # [\"large vehicle\", \"small vehicle\"]\n",
    "\n",
    "full_images_folder = \"../datasets/experiments/parkeren/luchtfotos/luchtfotos_centrum_2025/\"\n",
    "output_folder = \"../datasets/experiments/parkeren/detections/\""
   ]
  },
  {
   "cell_type": "code",
   "execution_count": null,
   "id": "1",
   "metadata": {},
   "outputs": [],
   "source": [
    "sahi_model = SAHIInferenceModel(\n",
    "    yolo_model_weights_path=\"../datasets/experiments/parkeren/model_weights/yolo11m-obb.pt\",\n",
    "    confidenc_treshold=0.01,\n",
    "    image_size=1024,\n",
    "    slice_height=1024,\n",
    "    slice_width=1024,\n",
    "    classes_to_keep=classes_to_keep,\n",
    "    class_agnostic=True\n",
    ")"
   ]
  },
  {
   "cell_type": "code",
   "execution_count": null,
   "id": "2",
   "metadata": {},
   "outputs": [],
   "source": [
    "images = sorted([file for file in os.listdir(full_images_folder) if file.endswith(\".tif\")])\n",
    "\n",
    "os.makedirs(output_folder, exist_ok=True)\n",
    "\n",
    "detections_gdf_list = []"
   ]
  },
  {
   "cell_type": "code",
   "execution_count": null,
   "id": "3",
   "metadata": {},
   "outputs": [],
   "source": [
    "for i, image_file in enumerate(images):\n",
    "    print(f\"Processing file {i+1}/{len(images)} : {image_file}\")\n",
    "\n",
    "    full_image_path = os.path.join(full_images_folder, image_file)\n",
    "    raster_data = RasterData(full_image_path)\n",
    "\n",
    "    sahi_result = sahi_model.predict(\n",
    "        image=raster_data.as_rgb_img(),\n",
    "    )\n",
    "\n",
    "    sahi_predictions = sahi_model.get_prediction_data()\n",
    "\n",
    "    sahi_predictions[\"geometry\"] = (\n",
    "        gpd.GeoSeries(\n",
    "            data=[sg.Polygon(coords) for coords in sahi_predictions[\"bounding_box\"]]\n",
    "        )\n",
    "        .affine_transform(raster_data.get_shapely_transform())\n",
    "    )\n",
    "\n",
    "    detections_gdf = gpd.GeoDataFrame(\n",
    "        data=sahi_predictions,\n",
    "        crs=RD_crs,\n",
    "    )\n",
    "\n",
    "    detections_gdf.insert(0, column=\"source_file\", value=image_file)\n",
    "\n",
    "    output_file = os.path.join(output_folder, f\"{os.path.splitext(image_file)[0]}.geojson\")\n",
    "    detections_gdf.to_file(output_file, driver='GeoJSON')\n",
    "\n",
    "    print(f\"Predictions written to {output_file}\")\n",
    "    print(\"-----\")\n",
    "\n",
    "    detections_gdf_list.append(detections_gdf)"
   ]
  },
  {
   "cell_type": "code",
   "execution_count": null,
   "id": "4",
   "metadata": {},
   "outputs": [],
   "source": [
    "full_detections_gdf = pd.concat(detections_gdf_list)\n",
    "full_detections_gdf.reset_index(inplace=True, drop=True)\n",
    "output_file = os.path.join(output_folder, \"combined_detections.geojson\")\n",
    "full_detections_gdf.to_file(output_file, driver='GeoJSON', index=True)"
   ]
  },
  {
   "cell_type": "code",
   "execution_count": null,
   "id": "5",
   "metadata": {},
   "outputs": [],
   "source": [
    "centrum = gpd.read_file(\"../datasets/experiments/parkeren/GBD_centrum_RD.json\")\n",
    "centrum_detections_gdf = full_detections_gdf[full_detections_gdf.intersects(centrum.geometry[0])]\n",
    "output_file = os.path.join(output_folder, \"combined_detections_centrum.geojson\")\n",
    "centrum_detections_gdf.to_file(output_file, driver='GeoJSON', index=True)"
   ]
  },
  {
   "cell_type": "code",
   "execution_count": null,
   "id": "6",
   "metadata": {},
   "outputs": [],
   "source": [
    "# Read back from file\n",
    "centrum_detections_gdf = gpd.read_file(\"local_data/combined_detections_centrum.geojson\").set_index(\"index\")"
   ]
  },
  {
   "cell_type": "code",
   "execution_count": null,
   "id": "7",
   "metadata": {},
   "outputs": [],
   "source": []
  }
 ],
 "metadata": {
  "kernelspec": {
   "display_name": "Aerial-Image-Detection",
   "language": "python",
   "name": "python3"
  },
  "language_info": {
   "codemirror_mode": {
    "name": "ipython",
    "version": 3
   },
   "file_extension": ".py",
   "mimetype": "text/x-python",
   "name": "python",
   "nbconvert_exporter": "python",
   "pygments_lexer": "ipython3",
   "version": "3.11.11"
  }
 },
 "nbformat": 4,
 "nbformat_minor": 5
}
