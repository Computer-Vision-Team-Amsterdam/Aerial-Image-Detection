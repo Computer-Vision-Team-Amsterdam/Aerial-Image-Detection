{
 "cells": [
  {
   "cell_type": "code",
   "execution_count": null,
   "id": "0",
   "metadata": {},
   "outputs": [],
   "source": [
    "import os\n",
    "\n",
    "import geopandas as gpd\n",
    "import pandas as pd\n",
    "import shapely.geometry as sg\n",
    "\n",
    "from aerial_image_detection.raster_utils import RasterData\n",
    "from aerial_image_detection.sahi_inference import SAHIInferenceModel\n",
    "\n",
    "RD_crs = \"EPSG:28992\"\n",
    "\n",
    "classes_to_keep = [9, 10]  # [\"large vehicle\", \"small vehicle\"]\n",
    "\n",
    "full_images_folder = \"../datasets/experiments/parkeren/luchtfotos/luchtfotos_centrum_2025/\"\n",
    "output_folder = \"../datasets/experiments/parkeren/detections/\""
   ]
  },
  {
   "cell_type": "code",
   "execution_count": null,
   "id": "1",
   "metadata": {},
   "outputs": [],
   "source": [
    "sahi_model = SAHIInferenceModel(\n",
    "    yolo_model_weights_path=\"../datasets/experiments/parkeren/model_weights/yolo11m-obb.pt\",\n",
    "    confidenc_treshold=0.01,\n",
    "    image_size=1024,\n",
    "    slice_height=1024,\n",
    "    slice_width=1024,\n",
    "    classes_to_keep=classes_to_keep,\n",
    "    class_agnostic=True\n",
    ")"
   ]
  },
  {
   "cell_type": "code",
   "execution_count": null,
   "id": "2",
   "metadata": {},
   "outputs": [],
   "source": [
    "images = sorted([file for file in os.listdir(full_images_folder) if file.endswith(\".tif\")])\n",
    "\n",
    "os.makedirs(output_folder, exist_ok=True)\n",
    "\n",
    "detections_gdf_list = []"
   ]
  },
  {
   "cell_type": "code",
   "execution_count": null,
   "id": "3",
   "metadata": {},
   "outputs": [],
   "source": [
    "for i, image_file in enumerate(images):\n",
    "    print(f\"Processing file {i+1}/{len(images)} : {image_file}\")\n",
    "\n",
    "    full_image_path = os.path.join(full_images_folder, image_file)\n",
    "    raster_data = RasterData(full_image_path)\n",
    "\n",
    "    sahi_result = sahi_model.predict(\n",
    "        image=raster_data.as_rgb_img(),\n",
    "    )\n",
    "\n",
    "    sahi_predictions = sahi_model.get_prediction_data()\n",
    "\n",
    "    sahi_predictions[\"geometry\"] = (\n",
    "        gpd.GeoSeries(\n",
    "            data=[sg.Polygon(coords) for coords in sahi_predictions[\"bounding_box\"]]\n",
    "        )\n",
    "        .affine_transform(raster_data.get_shapely_transform())\n",
    "    )\n",
    "\n",
    "    detections_gdf = gpd.GeoDataFrame(\n",
    "        data=sahi_predictions,\n",
    "        crs=RD_crs,\n",
    "    )\n",
    "\n",
    "    detections_gdf.insert(0, column=\"source_file\", value=image_file)\n",
    "\n",
    "    output_file = os.path.join(output_folder, f\"{os.path.splitext(image_file)[0]}.geojson\")\n",
    "    detections_gdf.to_file(output_file, driver='GeoJSON')\n",
    "\n",
    "    print(f\"Predictions written to {output_file}\")\n",
    "    print(\"-----\")\n",
    "\n",
    "    detections_gdf_list.append(detections_gdf)"
   ]
  },
  {
   "cell_type": "code",
   "execution_count": null,
   "id": "4",
   "metadata": {},
   "outputs": [],
   "source": [
    "full_detections_gdf = pd.concat(detections_gdf_list)\n",
    "full_detections_gdf.reset_index(inplace=True, drop=True)\n",
    "output_file = os.path.join(output_folder, \"combined_detections.geojson\")\n",
    "full_detections_gdf.to_file(output_file, driver='GeoJSON', index=True)"
   ]
  },
  {
   "cell_type": "code",
   "execution_count": null,
   "id": "5",
   "metadata": {},
   "outputs": [],
   "source": [
    "centrum = gpd.read_file(\"../datasets/experiments/parkeren/GBD_centrum_RD.json\")\n",
    "centrum_detections_gdf = full_detections_gdf[full_detections_gdf.intersects(centrum.geometry[0])]\n",
    "output_file = os.path.join(output_folder, \"combined_detections_centrum.geojson\")\n",
    "centrum_detections_gdf.to_file(output_file, driver='GeoJSON', index=True)"
   ]
  },
  {
   "cell_type": "code",
   "execution_count": null,
   "id": "6",
   "metadata": {},
   "outputs": [],
   "source": [
    "# Read back from file\n",
    "centrum_detections_gdf = gpd.read_file(\"local_data/combined_detections_centrum.geojson\").set_index(\"index\")"
   ]
  },
  {
   "cell_type": "markdown",
   "id": "7",
   "metadata": {},
   "source": [
    "## Detections EDA"
   ]
  },
  {
   "cell_type": "code",
   "execution_count": null,
   "id": "8",
   "metadata": {},
   "outputs": [],
   "source": [
    "centrum_detections_gdf = gpd.read_file(\"../datasets/experiments/parkeren/detections/combined_detections_centrum.geojson\").set_index(\"index\")"
   ]
  },
  {
   "cell_type": "code",
   "execution_count": null,
   "id": "9",
   "metadata": {},
   "outputs": [],
   "source": [
    "centrum_detections_gdf.area[centrum_detections_gdf.area <= 60].hist(bins=50)"
   ]
  },
  {
   "cell_type": "code",
   "execution_count": null,
   "id": "10",
   "metadata": {},
   "outputs": [],
   "source": [
    "centrum_detections_gdf.area.describe(percentiles=[0.1, 0.2])"
   ]
  },
  {
   "cell_type": "code",
   "execution_count": null,
   "id": "11",
   "metadata": {},
   "outputs": [],
   "source": [
    "centrum_detections_gdf[\"confidence\"].hist(bins=50)"
   ]
  },
  {
   "cell_type": "code",
   "execution_count": null,
   "id": "12",
   "metadata": {},
   "outputs": [],
   "source": [
    "centrum_detections_gdf[\"confidence\"].describe(percentiles=[0.1, 0.2])"
   ]
  },
  {
   "cell_type": "code",
   "execution_count": null,
   "id": "13",
   "metadata": {},
   "outputs": [],
   "source": [
    "def get_shape(geom):\n",
    "    coords = geom.exterior.coords\n",
    "\n",
    "    # get length of bounding box edges\n",
    "    edge_length = (sg.Point(coords[0]).distance(sg.Point(coords[1])), sg.Point(coords[1]).distance(sg.Point(coords[2])))\n",
    "\n",
    "    return {\n",
    "        \"length\": max(edge_length),\n",
    "        \"width\": min(edge_length)\n",
    "    }\n",
    "\n",
    "centrum_detections_gdf[[\"length\", \"width\"]] = centrum_detections_gdf.apply(lambda row: get_shape(row[\"geometry\"]), axis='columns', result_type='expand')"
   ]
  },
  {
   "cell_type": "code",
   "execution_count": null,
   "id": "14",
   "metadata": {},
   "outputs": [],
   "source": [
    "centrum_detections_gdf[\"width\"].hist(bins=50)"
   ]
  },
  {
   "cell_type": "code",
   "execution_count": null,
   "id": "15",
   "metadata": {},
   "outputs": [],
   "source": [
    "centrum_detections_gdf[\"length\"].hist(bins=50)"
   ]
  },
  {
   "cell_type": "code",
   "execution_count": null,
   "id": "16",
   "metadata": {},
   "outputs": [],
   "source": [
    "car_dimensions = {\n",
    "    \"min_width\": 1.4,\n",
    "    \"min_length\": 3.0,\n",
    "    \"max_width\": 3.0,\n",
    "    \"max_length\": 12.0\n",
    "}"
   ]
  },
  {
   "cell_type": "code",
   "execution_count": null,
   "id": "17",
   "metadata": {},
   "outputs": [],
   "source": [
    "conf_treshold = 0.04\n",
    "area_threshold = 5.0\n",
    "\n",
    "def accept(row):\n",
    "    accept_conf = row[\"confidence\"] >= conf_treshold\n",
    "    accept_width = (\n",
    "        (row[\"width\"] >= car_dimensions[\"min_width\"])\n",
    "        and (row[\"width\"] <= car_dimensions[\"max_width\"])\n",
    "    )\n",
    "    accept_length = (\n",
    "        (row[\"length\"] >= car_dimensions[\"min_length\"])\n",
    "        and (row[\"length\"] <= car_dimensions[\"max_length\"])\n",
    "    )\n",
    "    return accept_conf and accept_width and accept_length\n",
    "\n",
    "centrum_detections_gdf[\"accept\"] = centrum_detections_gdf.apply(accept, axis=\"columns\")"
   ]
  },
  {
   "cell_type": "code",
   "execution_count": null,
   "id": "18",
   "metadata": {},
   "outputs": [],
   "source": [
    "centrum_detections_gdf[\"accept\"].value_counts()"
   ]
  },
  {
   "cell_type": "markdown",
   "id": "19",
   "metadata": {},
   "source": [
    "## Crop and show detections"
   ]
  },
  {
   "cell_type": "code",
   "execution_count": null,
   "id": "20",
   "metadata": {},
   "outputs": [],
   "source": [
    "full_image_path = f\"../datasets/experiments/parkeren/luchtfotos/luchtfotos_centrum_2025/2025_121000_486000_RGB_JPEG_hrl.tif\"\n",
    "\n",
    "raster_data = RasterData(full_image_path)\n",
    "\n",
    "x = 700\n",
    "y = 700\n",
    "w = 100\n",
    "h = 100\n",
    "\n",
    "cropped_img, cropped_poly = raster_data.get_relative_crop((x, y, x+w, y+h))\n",
    "\n",
    "cropped_detections = centrum_detections_gdf[centrum_detections_gdf.intersects(cropped_poly)]"
   ]
  },
  {
   "cell_type": "code",
   "execution_count": null,
   "id": "21",
   "metadata": {},
   "outputs": [],
   "source": [
    "%matplotlib inline\n",
    "\n",
    "import matplotlib.pyplot as plt\n",
    "import numpy as np\n",
    "\n",
    "padding = 10\n",
    "\n",
    "fig, ax = plt.subplots(1, figsize=(10, 10), constrained_layout=True)\n",
    "\n",
    "[x_min, y_min, x_max, y_max] = map(int, cropped_poly.bounds)\n",
    "\n",
    "ax.imshow(cropped_img, extent=[x_min, x_max, y_min, y_max])\n",
    "\n",
    "colors = [(0, 1, 0) if accept else (1, 0, 0) for accept in cropped_detections[\"accept\"]]\n",
    "cropped_detections.boundary.plot(ax=ax, color=colors)\n",
    "\n",
    "ax.set_xlabel('X')\n",
    "ax.set_ylabel('Y')\n",
    "\n",
    "ax.set_xticks(range(x_min, x_max+1, 100))\n",
    "ax.set_xticklabels(range(x_min, x_max+1, 100))\n",
    "ax.set_yticks(range(y_min, y_max+1, 100))\n",
    "ax.set_yticklabels(range(y_min, y_max+1, 100))\n",
    "\n",
    "ax.set_xlim((x_min - padding, x_max + padding))\n",
    "ax.set_ylim((y_min - padding, y_max + padding))\n",
    "ax.set_aspect('equal', adjustable='box')\n",
    "\n",
    "# extent = ax.get_window_extent().transformed(fig.dpi_scale_trans.inverted())\n",
    "# plt.savefig(\"../datasets/experiments/parkeren/full_combined.jpg\", bbox_inches=extent, dpi=450)\n",
    "\n",
    "plt.show()"
   ]
  },
  {
   "cell_type": "code",
   "execution_count": null,
   "id": "22",
   "metadata": {},
   "outputs": [],
   "source": [
    "cropped_detections"
   ]
  },
  {
   "cell_type": "code",
   "execution_count": null,
   "id": "23",
   "metadata": {},
   "outputs": [],
   "source": []
  }
 ],
 "metadata": {
  "kernelspec": {
   "display_name": "Aerial-Image-Detection",
   "language": "python",
   "name": "python3"
  },
  "language_info": {
   "codemirror_mode": {
    "name": "ipython",
    "version": 3
   },
   "file_extension": ".py",
   "mimetype": "text/x-python",
   "name": "python",
   "nbconvert_exporter": "python",
   "pygments_lexer": "ipython3",
   "version": "3.11.11"
  }
 },
 "nbformat": 4,
 "nbformat_minor": 5
}
